{
 "cells": [
  {
   "cell_type": "code",
   "execution_count": 19,
   "metadata": {},
   "outputs": [
    {
     "name": "stdout",
     "output_type": "stream",
     "text": [
      "Skull-stripped output file:  /home/anhnx5/work/skull_stripping/ok/skullskip_0017brain.nii.gz\n"
     ]
    }
   ],
   "source": [
    "import nipype.interfaces.fsl as fsl\n",
    "\n",
    "# Set up the FSL BET skull-stripping interface\n",
    "bet = fsl.BET()\n",
    "\n",
    "# Set input and output filenames\n",
    "bet.inputs.in_file  = \"ok/0017brain.nii.gz\"\n",
    "bet.inputs.out_file = \"ok/skullskip_0017brain.nii.gz\"\n",
    "\n",
    "# Set BET options\n",
    "bet.inputs.frac = 0.5  # fraction of the brain outside the brain\n",
    "bet.inputs.robust = True  # robust brain center estimation\n",
    "\n",
    "# Run BET\n",
    "result = bet.run()\n",
    "\n",
    "# Print the output file name\n",
    "print(\"Skull-stripped output file: \", result.outputs.out_file)\n",
    "\n",
    "\n",
    "\n"
   ]
  },
  {
   "cell_type": "code",
   "execution_count": 21,
   "metadata": {},
   "outputs": [
    {
     "data": {
      "application/vnd.jupyter.widget-view+json": {
       "model_id": "099a8a2a46f04974af4a9c5bec3fb221",
       "version_major": 2,
       "version_minor": 0
      },
      "text/plain": [
       "interactive(children=(IntSlider(value=127, description='index', max=255), Output()), _dom_classes=('widget-int…"
      ]
     },
     "execution_count": 21,
     "metadata": {},
     "output_type": "execute_result"
    }
   ],
   "source": [
    "# visualize the skull-stripped image\n",
    "import nibabel as nib\n",
    "import matplotlib.pyplot as plt\n",
    "\n",
    "# Load the skull-stripped image\n",
    "# path_skull_raw = \"/home/anhnx5/work/skull_stripping/ok/skull_raw.nii.gz\"\n",
    "# path_skullstripped = \"/home/anhnx5/work/skull_stripping/brain_mri_skullstripped.nii.gz\"\n",
    "path_skull_raw       =   \"ok/0017brain.nii.gz\"\n",
    "path_skullstripped   =   \"ok/skullskip_0017brain.nii.gz\"\n",
    "skull_raw = nib.load(path_skull_raw)\n",
    "skullstripped = nib.load(path_skullstripped)\n",
    "\n",
    "\n",
    "\n",
    "# Plot the skull-stripped image\n",
    "def plot(index):\n",
    "    plt.figure(figsize=(10, 10))\n",
    "    #  visual in 1 row and 2 columns\n",
    "    plt.subplot(1, 2, 1)\n",
    "    plt.imshow(skull_raw.get_fdata()[:, :, index], cmap='gray')\n",
    "    \n",
    "    plt.subplot(1, 2, 2)\n",
    "    plt.imshow(skullstripped.get_fdata()[:, :, index], cmap='gray')\n",
    "\n",
    "    plt.show()\n",
    "\n",
    "# import interactive widgets    \n",
    "from ipywidgets import interact, fixed, interactive\n",
    "interactive(plot, index=(0, skullstripped.shape[2]-1))\n"
   ]
  },
  {
   "cell_type": "code",
   "execution_count": 14,
   "metadata": {},
   "outputs": [],
   "source": [
    "path_folder = \"/home/anhnx5/work/skull_stripping/ok/\"\n",
    "# access all permitions in folder\n",
    "!chmod -R 777 {path_folder}"
   ]
  }
 ],
 "metadata": {
  "kernelspec": {
   "display_name": "tiramisu",
   "language": "python",
   "name": "python3"
  },
  "language_info": {
   "codemirror_mode": {
    "name": "ipython",
    "version": 3
   },
   "file_extension": ".py",
   "mimetype": "text/x-python",
   "name": "python",
   "nbconvert_exporter": "python",
   "pygments_lexer": "ipython3",
   "version": "3.8.16"
  },
  "orig_nbformat": 4,
  "vscode": {
   "interpreter": {
    "hash": "1bc4bb56b97818bf060df32d74a499d3c676370c9fb8148800d4da71b8d7e8e7"
   }
  }
 },
 "nbformat": 4,
 "nbformat_minor": 2
}
